{
  "nbformat": 4,
  "nbformat_minor": 0,
  "metadata": {
    "colab": {
      "provenance": []
    },
    "kernelspec": {
      "name": "python3",
      "display_name": "Python 3"
    }
  },
  "cells": [
    {
      "cell_type": "code",
      "metadata": {
        "id": "mHQ7H21D9lu-"
      },
      "source": [
        "#importing all relevant packages for the project, data visualization tools, and ML algorithms\n",
        "import warnings\n",
        "warnings.filterwarnings('ignore')\n",
        "import pandas as pd\n",
        "import matplotlib.pyplot as plt\n",
        "import seaborn as sns\n",
        "import numpy as np\n",
        "import datetime as dt\n",
        "from datetime import timedelta\n",
        "from statsmodels.tsa.stattools import adfuller\n",
        "from statsmodels.graphics.tsaplots import plot_acf,plot_pacf\n",
        "from sklearn.model_selection import GridSearchCV\n",
        "from sklearn.preprocessing import StandardScaler\n",
        "from sklearn.cluster import KMeans\n",
        "from sklearn.metrics import silhouette_score,silhouette_samples\n",
        "from sklearn.linear_model import LinearRegression,Ridge,Lasso,LogisticRegression\n",
        "from sklearn.svm import SVR\n",
        "from sklearn.metrics import mean_squared_error,r2_score\n",
        "import statsmodels.api as sm\n",
        "from statsmodels.tsa.api import Holt,SimpleExpSmoothing,ExponentialSmoothing\n",
        "from fbprophet import Prophet\n",
        "from sklearn.preprocessing import PolynomialFeatures\n",
        "std=StandardScaler()"
      ],
      "execution_count": null,
      "outputs": []
    },
    {
      "cell_type": "code",
      "metadata": {
        "id": "eKBnd7Pi_p4J",
        "colab": {
          "base_uri": "https://localhost:8080/",
          "height": 244
        },
        "outputId": "1483000e-a370-4b00-a83c-90a2f1ca1e20"
      },
      "source": [
        "#uploading data file, using novel data providing approximately four months of insight\n",
        "from google.colab import files\n",
        "uploaded = files.upload()\n",
        "covid = pd.read_csv('whocovid.csv')\n",
        "covid.head(20)"
      ],
      "execution_count": null,
      "outputs": [
        {
          "output_type": "display_data",
          "data": {
            "text/plain": [
              "<IPython.core.display.HTML object>"
            ],
            "text/html": [
              "\n",
              "     <input type=\"file\" id=\"files-4bd33fba-fbbb-4486-916a-21196c8b7895\" name=\"files[]\" multiple disabled\n",
              "        style=\"border:none\" />\n",
              "     <output id=\"result-4bd33fba-fbbb-4486-916a-21196c8b7895\">\n",
              "      Upload widget is only available when the cell has been executed in the\n",
              "      current browser session. Please rerun this cell to enable.\n",
              "      </output>\n",
              "      <script>// Copyright 2017 Google LLC\n",
              "//\n",
              "// Licensed under the Apache License, Version 2.0 (the \"License\");\n",
              "// you may not use this file except in compliance with the License.\n",
              "// You may obtain a copy of the License at\n",
              "//\n",
              "//      http://www.apache.org/licenses/LICENSE-2.0\n",
              "//\n",
              "// Unless required by applicable law or agreed to in writing, software\n",
              "// distributed under the License is distributed on an \"AS IS\" BASIS,\n",
              "// WITHOUT WARRANTIES OR CONDITIONS OF ANY KIND, either express or implied.\n",
              "// See the License for the specific language governing permissions and\n",
              "// limitations under the License.\n",
              "\n",
              "/**\n",
              " * @fileoverview Helpers for google.colab Python module.\n",
              " */\n",
              "(function(scope) {\n",
              "function span(text, styleAttributes = {}) {\n",
              "  const element = document.createElement('span');\n",
              "  element.textContent = text;\n",
              "  for (const key of Object.keys(styleAttributes)) {\n",
              "    element.style[key] = styleAttributes[key];\n",
              "  }\n",
              "  return element;\n",
              "}\n",
              "\n",
              "// Max number of bytes which will be uploaded at a time.\n",
              "const MAX_PAYLOAD_SIZE = 100 * 1024;\n",
              "\n",
              "function _uploadFiles(inputId, outputId) {\n",
              "  const steps = uploadFilesStep(inputId, outputId);\n",
              "  const outputElement = document.getElementById(outputId);\n",
              "  // Cache steps on the outputElement to make it available for the next call\n",
              "  // to uploadFilesContinue from Python.\n",
              "  outputElement.steps = steps;\n",
              "\n",
              "  return _uploadFilesContinue(outputId);\n",
              "}\n",
              "\n",
              "// This is roughly an async generator (not supported in the browser yet),\n",
              "// where there are multiple asynchronous steps and the Python side is going\n",
              "// to poll for completion of each step.\n",
              "// This uses a Promise to block the python side on completion of each step,\n",
              "// then passes the result of the previous step as the input to the next step.\n",
              "function _uploadFilesContinue(outputId) {\n",
              "  const outputElement = document.getElementById(outputId);\n",
              "  const steps = outputElement.steps;\n",
              "\n",
              "  const next = steps.next(outputElement.lastPromiseValue);\n",
              "  return Promise.resolve(next.value.promise).then((value) => {\n",
              "    // Cache the last promise value to make it available to the next\n",
              "    // step of the generator.\n",
              "    outputElement.lastPromiseValue = value;\n",
              "    return next.value.response;\n",
              "  });\n",
              "}\n",
              "\n",
              "/**\n",
              " * Generator function which is called between each async step of the upload\n",
              " * process.\n",
              " * @param {string} inputId Element ID of the input file picker element.\n",
              " * @param {string} outputId Element ID of the output display.\n",
              " * @return {!Iterable<!Object>} Iterable of next steps.\n",
              " */\n",
              "function* uploadFilesStep(inputId, outputId) {\n",
              "  const inputElement = document.getElementById(inputId);\n",
              "  inputElement.disabled = false;\n",
              "\n",
              "  const outputElement = document.getElementById(outputId);\n",
              "  outputElement.innerHTML = '';\n",
              "\n",
              "  const pickedPromise = new Promise((resolve) => {\n",
              "    inputElement.addEventListener('change', (e) => {\n",
              "      resolve(e.target.files);\n",
              "    });\n",
              "  });\n",
              "\n",
              "  const cancel = document.createElement('button');\n",
              "  inputElement.parentElement.appendChild(cancel);\n",
              "  cancel.textContent = 'Cancel upload';\n",
              "  const cancelPromise = new Promise((resolve) => {\n",
              "    cancel.onclick = () => {\n",
              "      resolve(null);\n",
              "    };\n",
              "  });\n",
              "\n",
              "  // Wait for the user to pick the files.\n",
              "  const files = yield {\n",
              "    promise: Promise.race([pickedPromise, cancelPromise]),\n",
              "    response: {\n",
              "      action: 'starting',\n",
              "    }\n",
              "  };\n",
              "\n",
              "  cancel.remove();\n",
              "\n",
              "  // Disable the input element since further picks are not allowed.\n",
              "  inputElement.disabled = true;\n",
              "\n",
              "  if (!files) {\n",
              "    return {\n",
              "      response: {\n",
              "        action: 'complete',\n",
              "      }\n",
              "    };\n",
              "  }\n",
              "\n",
              "  for (const file of files) {\n",
              "    const li = document.createElement('li');\n",
              "    li.append(span(file.name, {fontWeight: 'bold'}));\n",
              "    li.append(span(\n",
              "        `(${file.type || 'n/a'}) - ${file.size} bytes, ` +\n",
              "        `last modified: ${\n",
              "            file.lastModifiedDate ? file.lastModifiedDate.toLocaleDateString() :\n",
              "                                    'n/a'} - `));\n",
              "    const percent = span('0% done');\n",
              "    li.appendChild(percent);\n",
              "\n",
              "    outputElement.appendChild(li);\n",
              "\n",
              "    const fileDataPromise = new Promise((resolve) => {\n",
              "      const reader = new FileReader();\n",
              "      reader.onload = (e) => {\n",
              "        resolve(e.target.result);\n",
              "      };\n",
              "      reader.readAsArrayBuffer(file);\n",
              "    });\n",
              "    // Wait for the data to be ready.\n",
              "    let fileData = yield {\n",
              "      promise: fileDataPromise,\n",
              "      response: {\n",
              "        action: 'continue',\n",
              "      }\n",
              "    };\n",
              "\n",
              "    // Use a chunked sending to avoid message size limits. See b/62115660.\n",
              "    let position = 0;\n",
              "    do {\n",
              "      const length = Math.min(fileData.byteLength - position, MAX_PAYLOAD_SIZE);\n",
              "      const chunk = new Uint8Array(fileData, position, length);\n",
              "      position += length;\n",
              "\n",
              "      const base64 = btoa(String.fromCharCode.apply(null, chunk));\n",
              "      yield {\n",
              "        response: {\n",
              "          action: 'append',\n",
              "          file: file.name,\n",
              "          data: base64,\n",
              "        },\n",
              "      };\n",
              "\n",
              "      let percentDone = fileData.byteLength === 0 ?\n",
              "          100 :\n",
              "          Math.round((position / fileData.byteLength) * 100);\n",
              "      percent.textContent = `${percentDone}% done`;\n",
              "\n",
              "    } while (position < fileData.byteLength);\n",
              "  }\n",
              "\n",
              "  // All done.\n",
              "  yield {\n",
              "    response: {\n",
              "      action: 'complete',\n",
              "    }\n",
              "  };\n",
              "}\n",
              "\n",
              "scope.google = scope.google || {};\n",
              "scope.google.colab = scope.google.colab || {};\n",
              "scope.google.colab._files = {\n",
              "  _uploadFiles,\n",
              "  _uploadFilesContinue,\n",
              "};\n",
              "})(self);\n",
              "</script> "
            ]
          },
          "metadata": {}
        },
        {
          "output_type": "error",
          "ename": "NameError",
          "evalue": "ignored",
          "traceback": [
            "\u001b[0;31m---------------------------------------------------------------------------\u001b[0m",
            "\u001b[0;31mNameError\u001b[0m                                 Traceback (most recent call last)",
            "\u001b[0;32m<ipython-input-1-d6cccf00b681>\u001b[0m in \u001b[0;36m<module>\u001b[0;34m\u001b[0m\n\u001b[1;32m      2\u001b[0m \u001b[0;32mfrom\u001b[0m \u001b[0mgoogle\u001b[0m\u001b[0;34m.\u001b[0m\u001b[0mcolab\u001b[0m \u001b[0;32mimport\u001b[0m \u001b[0mfiles\u001b[0m\u001b[0;34m\u001b[0m\u001b[0;34m\u001b[0m\u001b[0m\n\u001b[1;32m      3\u001b[0m \u001b[0muploaded\u001b[0m \u001b[0;34m=\u001b[0m \u001b[0mfiles\u001b[0m\u001b[0;34m.\u001b[0m\u001b[0mupload\u001b[0m\u001b[0;34m(\u001b[0m\u001b[0;34m)\u001b[0m\u001b[0;34m\u001b[0m\u001b[0;34m\u001b[0m\u001b[0m\n\u001b[0;32m----> 4\u001b[0;31m \u001b[0mcovid\u001b[0m \u001b[0;34m=\u001b[0m \u001b[0mpd\u001b[0m\u001b[0;34m.\u001b[0m\u001b[0mread_csv\u001b[0m\u001b[0;34m(\u001b[0m\u001b[0;34m'whocovid.csv'\u001b[0m\u001b[0;34m)\u001b[0m\u001b[0;34m\u001b[0m\u001b[0;34m\u001b[0m\u001b[0m\n\u001b[0m\u001b[1;32m      5\u001b[0m \u001b[0mcovid\u001b[0m\u001b[0;34m.\u001b[0m\u001b[0mhead\u001b[0m\u001b[0;34m(\u001b[0m\u001b[0;36m20\u001b[0m\u001b[0;34m)\u001b[0m\u001b[0;34m\u001b[0m\u001b[0;34m\u001b[0m\u001b[0m\n",
            "\u001b[0;31mNameError\u001b[0m: name 'pd' is not defined"
          ]
        }
      ]
    },
    {
      "cell_type": "code",
      "metadata": {
        "id": "gp0UCp-PALqZ",
        "colab": {
          "base_uri": "https://localhost:8080/"
        },
        "outputId": "efe2e9e3-679b-4149-b536-76628cc61430"
      },
      "source": [
        "#trying to get an idea of the amount of data and entries\n",
        "covid.shape\n",
        "print(covid.shape)\n",
        "#converting observationdata data type for convenience\n",
        "covid[\"Date_reported\"]=pd.to_datetime(covid[\"Date_reported\"])"
      ],
      "execution_count": null,
      "outputs": [
        {
          "output_type": "stream",
          "name": "stdout",
          "text": [
            "(156183, 8)\n"
          ]
        }
      ]
    },
    {
      "cell_type": "code",
      "metadata": {
        "colab": {
          "base_uri": "https://localhost:8080/"
        },
        "id": "FhcbCf60ROWC",
        "outputId": "15822cc6-b423-41a3-fae1-65ba3cdf8d40"
      },
      "source": [
        "#see the kind of data we're dea\n",
        "covid.dtypes"
      ],
      "execution_count": null,
      "outputs": [
        {
          "output_type": "execute_result",
          "data": {
            "text/plain": [
              "Date_reported        datetime64[ns]\n",
              "Country_code                 object\n",
              "Country                      object\n",
              "WHO_region                   object\n",
              "New_cases                     int64\n",
              "Cumulative_cases              int64\n",
              "New_deaths                    int64\n",
              "Cumulative_deaths             int64\n",
              "dtype: object"
            ]
          },
          "metadata": {},
          "execution_count": 4
        }
      ]
    },
    {
      "cell_type": "code",
      "metadata": {
        "id": "4721-JEoA_LN"
      },
      "source": [
        "#organizing and grouping data given in file, the most important columns being the confirmed, recovered, and death cases\n",
        "datewise=covid.groupby([\"Date_reported\"]).agg({\"Cumulative_cases\":'sum',\"Cumulative_deaths\":'sum'})\n",
        "datewise[\"Days Since\"]=datewise.index-datewise.index.min()"
      ],
      "execution_count": null,
      "outputs": []
    },
    {
      "cell_type": "code",
      "metadata": {
        "id": "8qZt_wheBgxG",
        "colab": {
          "base_uri": "https://localhost:8080/"
        },
        "outputId": "d2cbd270-55b7-43da-d114-bc3b0757548c"
      },
      "source": [
        "#displaying some key statistics giving an \"big picture\" idea of the situation around the world\n",
        "print(\"Background info\")\n",
        "print(\"# of confirmed cases in the world: \",datewise[\"Cumulative_cases\"].iloc[-1])\n",
        "#print(\"# of recovered cases in the world: \",datewise[\"Recovered\"].iloc[-1])\n",
        "print(\"# of deaths in the world: \",datewise[\"Cumulative_deaths\"].iloc[-1])"
      ],
      "execution_count": null,
      "outputs": [
        {
          "output_type": "stream",
          "name": "stdout",
          "text": [
            "Background info\n",
            "# of confirmed cases in the world:  242348657\n",
            "# of deaths in the world:  4927723\n"
          ]
        }
      ]
    },
    {
      "cell_type": "code",
      "metadata": {
        "id": "Ld5lk3ewFOzs"
      },
      "source": [
        "#organizing data by country and grouping to allow for data visualization and K-means clustering application\n",
        "countrywise=covid[covid[\"Date_reported\"]==covid[\"Date_reported\"].max()].groupby([\"Country\"]).agg({\"Cumulative_cases\":'sum',\"Cumulative_deaths\":'sum'}).sort_values([\"Cumulative_cases\"],ascending=False)"
      ],
      "execution_count": null,
      "outputs": []
    },
    {
      "cell_type": "code",
      "metadata": {
        "id": "JOc-2u2my9Hu",
        "colab": {
          "base_uri": "https://localhost:8080/",
          "height": 631
        },
        "outputId": "8d7fcef6-1180-4e4d-e377-b1ab16a60898"
      },
      "source": [
        "#making plots showing where COVID-19 has led to the most fatalities\n",
        "fig, (ax2) = plt.subplots(1,figsize=(15,10))\n",
        "top_15_deaths=countrywise.sort_values([\"Cumulative_deaths\"],ascending=False).head(10)\n",
        "#sns.barplot(x=top_15_deaths.index,y=top_15_deaths[\"Deaths\"],ax=ax2)\n",
        "sns.barplot(x=top_15_deaths.index,y=top_15_deaths[\"Cumulative_deaths\"],ax=ax2,color=(0.2, 0.4, 0.6, 0.6))\n",
        "ax2.set_title(\"Top 10 countries, Death from COVID-19\")"
      ],
      "execution_count": null,
      "outputs": [
        {
          "output_type": "execute_result",
          "data": {
            "text/plain": [
              "Text(0.5, 1.0, 'Top 10 countries, Death from COVID-19')"
            ]
          },
          "metadata": {},
          "execution_count": 8
        },
        {
          "output_type": "display_data",
          "data": {
            "image/png": "[encoded data removed]",
            "text/plain": [
              "<Figure size 1080x720 with 1 Axes>"
            ]
          },
          "metadata": {
            "needs_background": "light"
          }
        }
      ]
    },
    {
      "cell_type": "code",
      "metadata": {
        "id": "_WDjZuPW-qJn"
      },
      "source": [
        "#applying k-means clustering to analyze how dire the situation is for countries around the world.\n",
        "X=countrywise[[\"Cumulative_cases\",\"Cumulative_deaths\"]]\n",
        "X=std.fit_transform(X)"
      ],
      "execution_count": null,
      "outputs": []
    },
    {
      "cell_type": "code",
      "metadata": {
        "id": "d0L2x7ma-tdR"
      },
      "source": [
        "#creating a k-means method\n",
        "wcss=[]\n",
        "for i in range(2,8):\n",
        "    clf=KMeans(n_clusters=i,init='k-means++',random_state=100)\n",
        "    clf.fit(X)\n",
        "    labels=clf.labels_\n",
        "    centroids=clf.cluster_centers_\n",
        "    wcss.append(clf.inertia_)"
      ],
      "execution_count": null,
      "outputs": []
    },
    {
      "cell_type": "code",
      "metadata": {
        "id": "oHFRVqhc-wKo",
        "colab": {
          "base_uri": "https://localhost:8080/",
          "height": 368
        },
        "outputId": "4f3251e6-dcf8-407a-cc9d-9ed8e8f85dd6"
      },
      "source": [
        "#displaying results and figuring out ideal paremeters for k-means clustering\n",
        "fig, (ax1) = plt.subplots(1,figsize=(12,5))\n",
        "x=np.arange(2,8)\n",
        "ax1.plot(x,wcss,marker='o')\n",
        "ax1.set_xlabel(\"Number of Clusters\")\n",
        "ax1.set_ylabel(\"Within Cluster Sum of Squares (WCSS)\")\n",
        "ax1.set_title(\"Elbow Method\")"
      ],
      "execution_count": null,
      "outputs": [
        {
          "output_type": "execute_result",
          "data": {
            "text/plain": [
              "Text(0.5, 1.0, 'Elbow Method')"
            ]
          },
          "metadata": {},
          "execution_count": 11
        },
        {
          "output_type": "display_data",
          "data": {
            "image/png": "[encoded data removed]",
            "text/plain": [
              "<Figure size 864x360 with 1 Axes>"
            ]
          },
          "metadata": {
            "needs_background": "light"
          }
        }
      ]
    },
    {
      "cell_type": "code",
      "metadata": {
        "id": "7Wfeb0IT-zSn",
        "colab": {
          "base_uri": "https://localhost:8080/"
        },
        "outputId": "537fadea-6192-4b33-8bc4-cd7d400d0d5e"
      },
      "source": [
        "#i chose to have 4 clusters\n",
        "clf_final=KMeans(n_clusters=4,init='k-means++',random_state=100)\n",
        "clf_final.fit(X)"
      ],
      "execution_count": null,
      "outputs": [
        {
          "output_type": "execute_result",
          "data": {
            "text/plain": [
              "KMeans(n_clusters=4, random_state=100)"
            ]
          },
          "metadata": {},
          "execution_count": 12
        }
      ]
    },
    {
      "cell_type": "code",
      "metadata": {
        "id": "AWvqMi95-2ca"
      },
      "source": [
        "countrywise[\"Clusters\"]=clf_final.predict(X)"
      ],
      "execution_count": null,
      "outputs": []
    },
    {
      "cell_type": "code",
      "metadata": {
        "id": "i02hRmox-8r6",
        "colab": {
          "base_uri": "https://localhost:8080/",
          "height": 349
        },
        "outputId": "e3cfe874-936d-4b88-b14d-3d594ba4ca4a"
      },
      "source": [
        "#plotting the clusters\n",
        "plt.figure(figsize=(15,5))\n",
        "sns.scatterplot(x=countrywise[\"Cumulative_cases\"],y=countrywise[\"Cumulative_deaths\"],hue=countrywise[\"Clusters\"],s=100)"
      ],
      "execution_count": null,
      "outputs": [
        {
          "output_type": "execute_result",
          "data": {
            "text/plain": [
              "<matplotlib.axes._subplots.AxesSubplot at 0x7f58f2b7f3d0>"
            ]
          },
          "metadata": {},
          "execution_count": 14
        },
        {
          "output_type": "display_data",
          "data": {
            "image/png": "[encoded data removed]",
            "text/plain": [
              "<Figure size 1080x360 with 1 Axes>"
            ]
          },
          "metadata": {
            "needs_background": "light"
          }
        }
      ]
    },
    {
      "cell_type": "code",
      "metadata": {
        "id": "RE7MJ4ii-5AT",
        "colab": {
          "base_uri": "https://localhost:8080/",
          "height": 455
        },
        "outputId": "5df7e5f8-0b2d-4f54-b33c-17d2582009e8"
      },
      "source": [
        "#Cluster 1 represents countries that have hit the worst with COVID-19\n",
        "#Cluster 2 represents countries that have been moderately with COVID-19\n",
        "#Cluster 3 represents countries that haven't been affected (to a certain extent) by COVID-19\n",
        "pd.concat([countrywise[countrywise[\"Clusters\"]==0],countrywise[countrywise[\"Clusters\"]==1],countrywise[countrywise[\"Clusters\"]==2],countrywise[countrywise[\"Clusters\"]==3].head(25)])"
      ],
      "execution_count": null,
      "outputs": [
        {
          "output_type": "execute_result",
          "data": {
            "text/html": [
              "<div>\n",
              "<style scoped>\n",
              "    .dataframe tbody tr th:only-of-type {\n",
              "        vertical-align: middle;\n",
              "    }\n",
              "\n",
              "    .dataframe tbody tr th {\n",
              "        vertical-align: top;\n",
              "    }\n",
              "\n",
              "    .dataframe thead th {\n",
              "        text-align: right;\n",
              "    }\n",
              "</style>\n",
              "<table border=\"1\" class=\"dataframe\">\n",
              "  <thead>\n",
              "    <tr style=\"text-align: right;\">\n",
              "      <th></th>\n",
              "      <th>Cumulative_cases</th>\n",
              "      <th>Cumulative_deaths</th>\n",
              "      <th>Clusters</th>\n",
              "    </tr>\n",
              "    <tr>\n",
              "      <th>Country</th>\n",
              "      <th></th>\n",
              "      <th></th>\n",
              "      <th></th>\n",
              "    </tr>\n",
              "  </thead>\n",
              "  <tbody>\n",
              "    <tr>\n",
              "      <th>The United Kingdom</th>\n",
              "      <td>8641225</td>\n",
              "      <td>139146</td>\n",
              "      <td>0</td>\n",
              "    </tr>\n",
              "    <tr>\n",
              "      <th>Russian Federation</th>\n",
              "      <td>8168305</td>\n",
              "      <td>228453</td>\n",
              "      <td>0</td>\n",
              "    </tr>\n",
              "    <tr>\n",
              "      <th>Turkey</th>\n",
              "      <td>7772604</td>\n",
              "      <td>68472</td>\n",
              "      <td>0</td>\n",
              "    </tr>\n",
              "    <tr>\n",
              "      <th>France</th>\n",
              "      <td>6886851</td>\n",
              "      <td>115036</td>\n",
              "      <td>0</td>\n",
              "    </tr>\n",
              "    <tr>\n",
              "      <th>Iran (Islamic Republic of)</th>\n",
              "      <td>5833525</td>\n",
              "      <td>124763</td>\n",
              "      <td>0</td>\n",
              "    </tr>\n",
              "    <tr>\n",
              "      <th>...</th>\n",
              "      <td>...</td>\n",
              "      <td>...</td>\n",
              "      <td>...</td>\n",
              "    </tr>\n",
              "    <tr>\n",
              "      <th>Nauru</th>\n",
              "      <td>0</td>\n",
              "      <td>0</td>\n",
              "      <td>1</td>\n",
              "    </tr>\n",
              "    <tr>\n",
              "      <th>Saint Helena</th>\n",
              "      <td>0</td>\n",
              "      <td>0</td>\n",
              "      <td>1</td>\n",
              "    </tr>\n",
              "    <tr>\n",
              "      <th>United States of America</th>\n",
              "      <td>44940696</td>\n",
              "      <td>726846</td>\n",
              "      <td>2</td>\n",
              "    </tr>\n",
              "    <tr>\n",
              "      <th>India</th>\n",
              "      <td>34143236</td>\n",
              "      <td>453042</td>\n",
              "      <td>3</td>\n",
              "    </tr>\n",
              "    <tr>\n",
              "      <th>Brazil</th>\n",
              "      <td>21680488</td>\n",
              "      <td>604228</td>\n",
              "      <td>3</td>\n",
              "    </tr>\n",
              "  </tbody>\n",
              "</table>\n",
              "<p>237 rows × 3 columns</p>\n",
              "</div>"
            ],
            "text/plain": [
              "                            Cumulative_cases  Cumulative_deaths  Clusters\n",
              "Country                                                                  \n",
              "The United Kingdom                   8641225             139146         0\n",
              "Russian Federation                   8168305             228453         0\n",
              "Turkey                               7772604              68472         0\n",
              "France                               6886851             115036         0\n",
              "Iran (Islamic Republic of)           5833525             124763         0\n",
              "...                                      ...                ...       ...\n",
              "Nauru                                      0                  0         1\n",
              "Saint Helena                               0                  0         1\n",
              "United States of America            44940696             726846         2\n",
              "India                               34143236             453042         3\n",
              "Brazil                              21680488             604228         3\n",
              "\n",
              "[237 rows x 3 columns]"
            ]
          },
          "metadata": {},
          "execution_count": 15
        }
      ]
    },
    {
      "cell_type": "code",
      "metadata": {
        "id": "CF8eBNjI_C93"
      },
      "source": [
        "#creating and applying machine learning models for prediction of confirmed cases\n",
        "datewise[\"Days Since\"]=datewise.index-datewise.index[0]\n",
        "datewise[\"Days Since\"]=datewise[\"Days Since\"].dt.days"
      ],
      "execution_count": null,
      "outputs": []
    },
    {
      "cell_type": "code",
      "metadata": {
        "id": "FRHZ90ZD_GWn"
      },
      "source": [
        "#splitting data\n",
        "train_ml=datewise.iloc[:int(datewise.shape[0]*0.95)]\n",
        "valid_ml=datewise.iloc[int(datewise.shape[0]*0.95):]\n",
        "model_scores=[]"
      ],
      "execution_count": null,
      "outputs": []
    },
    {
      "cell_type": "code",
      "metadata": {
        "id": "An9Oq2Jp_H_z"
      },
      "source": [
        "#Model 1: Linear Regression\n",
        "lin_reg=LinearRegression(normalize=True)"
      ],
      "execution_count": null,
      "outputs": []
    },
    {
      "cell_type": "code",
      "metadata": {
        "id": "CMU0Hs6V_Jw3",
        "colab": {
          "base_uri": "https://localhost:8080/"
        },
        "outputId": "121e3646-e2eb-4cd4-efea-dab12d1c71b2"
      },
      "source": [
        "#model fitting\n",
        "lin_reg.fit(np.array(train_ml[\"Days Since\"]).reshape(-1,1),np.array(train_ml[\"Cumulative_cases\"]).reshape(-1,1))"
      ],
      "execution_count": null,
      "outputs": [
        {
          "output_type": "execute_result",
          "data": {
            "text/plain": [
              "LinearRegression(normalize=True)"
            ]
          },
          "metadata": {},
          "execution_count": 19
        }
      ]
    },
    {
      "cell_type": "code",
      "metadata": {
        "id": "htoWkfjq_MAx"
      },
      "source": [
        "prediction_valid_linreg=lin_reg.predict(np.array(valid_ml[\"Days Since\"]).reshape(-1,1))"
      ],
      "execution_count": null,
      "outputs": []
    },
    {
      "cell_type": "code",
      "metadata": {
        "id": "hblKV96P_N1A",
        "colab": {
          "base_uri": "https://localhost:8080/"
        },
        "outputId": "3aeaf0b0-3c5d-443b-adc8-e88e9c9380bf"
      },
      "source": [
        "#Root mean square error used for calculating how accurate a model is\n",
        "model_scores.append(np.sqrt(mean_squared_error(valid_ml[\"Cumulative_cases\"],prediction_valid_linreg)))\n",
        "print(\"RMSE: \",np.sqrt(mean_squared_error(valid_ml[\"Cumulative_cases\"],prediction_valid_linreg)/156000))"
      ],
      "execution_count": null,
      "outputs": [
        {
          "output_type": "stream",
          "name": "stdout",
          "text": [
            "RMSE:  72409.6865787034\n"
          ]
        }
      ]
    },
    {
      "cell_type": "code",
      "metadata": {
        "id": "mqRhVBCA_Qn2",
        "colab": {
          "base_uri": "https://localhost:8080/",
          "height": 345
        },
        "outputId": "fa1edcc8-35ac-402d-ac97-bf9092cbf14d"
      },
      "source": [
        "#As one can see, linear regression model isn't very accurate\n",
        "prediction_linreg=lin_reg.predict(np.array(datewise[\"Days Since\"]).reshape(-1,1))\n",
        "plt.plot(datewise[\"Cumulative_cases\"],label=\"Actual Confirmed Cases\")\n",
        "plt.plot(datewise.index,prediction_linreg, linestyle='--',label=\"Predicted Confirmed Cases for Linear Regression\",color='black')\n",
        "plt.xlabel('Time')\n",
        "plt.ylabel('Confirmed Cases')\n",
        "plt.title(\"Confirmed Cases for Linear Model\")\n",
        "plt.xticks(rotation=90)\n",
        "plt.legend()"
      ],
      "execution_count": null,
      "outputs": [
        {
          "output_type": "execute_result",
          "data": {
            "text/plain": [
              "<matplotlib.legend.Legend at 0x7f58ef7e8390>"
            ]
          },
          "metadata": {},
          "execution_count": 22
        },
        {
          "output_type": "display_data",
          "data": {
            "image/png": "[encoded data removed]",
            "text/plain": [
              "<Figure size 432x288 with 1 Axes>"
            ]
          },
          "metadata": {
            "needs_background": "light"
          }
        }
      ]
    },
    {
      "cell_type": "code",
      "metadata": {
        "id": "ejZPT8on_UQp"
      },
      "source": [
        "#splitting data\n",
        "train_ml=datewise.iloc[:int(datewise.shape[0]*0.95)]\n",
        "valid_ml=datewise.iloc[int(datewise.shape[0]*0.95):]"
      ],
      "execution_count": null,
      "outputs": []
    },
    {
      "cell_type": "code",
      "metadata": {
        "id": "lqJvzgEC_Wv4"
      },
      "source": [
        "#Polynomial Regression model\n",
        "poly = PolynomialFeatures(degree = 5)"
      ],
      "execution_count": null,
      "outputs": []
    },
    {
      "cell_type": "code",
      "metadata": {
        "id": "TyLKK967_Y86"
      },
      "source": [
        "#reshaping data for model\n",
        "train_poly=poly.fit_transform(np.array(train_ml[\"Days Since\"]).reshape(-1,1))\n",
        "valid_poly=poly.fit_transform(np.array(valid_ml[\"Days Since\"]).reshape(-1,1))\n",
        "y=train_ml[\"Cumulative_cases\"]"
      ],
      "execution_count": null,
      "outputs": []
    },
    {
      "cell_type": "code",
      "metadata": {
        "id": "Fq0_ogm8_a7m",
        "colab": {
          "base_uri": "https://localhost:8080/"
        },
        "outputId": "992d6935-cac6-4c6c-8032-774601c68ccf"
      },
      "source": [
        "#fitting model for intended purposes\n",
        "linreg=LinearRegression(normalize=True)\n",
        "linreg.fit(train_poly,y)"
      ],
      "execution_count": null,
      "outputs": [
        {
          "output_type": "execute_result",
          "data": {
            "text/plain": [
              "LinearRegression(normalize=True)"
            ]
          },
          "metadata": {},
          "execution_count": 34
        }
      ]
    },
    {
      "cell_type": "code",
      "metadata": {
        "id": "I7xlfg7t_fMi",
        "colab": {
          "base_uri": "https://localhost:8080/",
          "height": 454
        },
        "outputId": "986ab980-ff5a-4b74-967b-c8f88fc19441"
      },
      "source": [
        "comp_data=poly.fit_transform(np.array(datewise[\"Days Since\"]).reshape(-1,1))\n",
        "plt.figure(figsize=(11,6))\n",
        "predictions_poly=linreg.predict(comp_data)\n",
        "plt.plot(datewise[\"Cumulative_cases\"],label=\"Train Confirmed Cases\",linewidth=3)\n",
        "plt.plot(datewise.index,predictions_poly, linestyle='--',label=\"Best prediction model for Polynomial Regression\",color='black')\n",
        "plt.xlabel('Time')\n",
        "plt.ylabel('Confirmed Cases')\n",
        "plt.title(\"Confirmed Cases for Polynomial model\")\n",
        "plt.xticks(rotation=90)\n",
        "plt.legend()"
      ],
      "execution_count": null,
      "outputs": [
        {
          "output_type": "execute_result",
          "data": {
            "text/plain": [
              "<matplotlib.legend.Legend at 0x7f58ef624610>"
            ]
          },
          "metadata": {},
          "execution_count": 35
        },
        {
          "output_type": "display_data",
          "data": {
            "image/png": "[encoded data removed]",
            "text/plain": [
              "<Figure size 792x432 with 1 Axes>"
            ]
          },
          "metadata": {
            "needs_background": "light"
          }
        }
      ]
    },
    {
      "cell_type": "code",
      "metadata": {
        "id": "wARdGK2V_cq5",
        "colab": {
          "base_uri": "https://localhost:8080/"
        },
        "outputId": "a13a4776-955c-4933-e5b9-2e57277e6855"
      },
      "source": [
        "#producing predictions and error for model, as one can see\n",
        "#this model is significantly more accurate the linear regression model\n",
        "prediction_poly=linreg.predict(valid_poly)\n",
        "rmse_poly=np.sqrt(mean_squared_error(valid_ml[\"Cumulative_cases\"],prediction_poly))\n",
        "print(\"Root Mean Squared Error for Polynomial Regression: \",rmse_poly)"
      ],
      "execution_count": null,
      "outputs": [
        {
          "output_type": "stream",
          "name": "stdout",
          "text": [
            "Root Mean Squared Error for Polynomial Regression:  2427535.75823343\n"
          ]
        }
      ]
    },
    {
      "cell_type": "code",
      "metadata": {
        "id": "aqMMCxtQJ-4h"
      },
      "source": [
        "#splitting data\n",
        "train_ml=datewise.iloc[:int(datewise.shape[0]*0.95)]\n",
        "valid_ml=datewise.iloc[int(datewise.shape[0]*0.95):]"
      ],
      "execution_count": null,
      "outputs": []
    },
    {
      "cell_type": "code",
      "metadata": {
        "id": "BoTRC-67KCvD"
      },
      "source": [
        "#Polynomial Regression model\n",
        "log_reg = LogisticRegression(\"none\")"
      ],
      "execution_count": null,
      "outputs": []
    },
    {
      "cell_type": "code",
      "metadata": {
        "colab": {
          "base_uri": "https://localhost:8080/"
        },
        "id": "NGy8ZMYxKDXL",
        "outputId": "59450be4-66b0-4e48-839e-a6a7315a6e60"
      },
      "source": [
        "#reshaping data for model\n",
        "#train_poly=log_reg.fit(np.array(train_ml[\"Days Since\"]).reshape(-1,1))\n",
        "#valid_poly=log_reg.fit(np.array(valid_ml[\"Days Since\"]).reshape(-1,1))\n",
        "log_reg.fit(np.array(train_ml[\"Days Since\"]).reshape(-1,1),np.array(train_ml[\"Cumulative_cases\"]).reshape(-1,1))\n"
      ],
      "execution_count": null,
      "outputs": [
        {
          "output_type": "execute_result",
          "data": {
            "text/plain": [
              "LogisticRegression(penalty='none')"
            ]
          },
          "metadata": {},
          "execution_count": 56
        }
      ]
    },
    {
      "cell_type": "code",
      "metadata": {
        "id": "7SPFQWCVOJ-c"
      },
      "source": [
        "prediction_valid_logreg=log_reg.predict(np.array(valid_ml[\"Days Since\"]).reshape(-1,1))"
      ],
      "execution_count": null,
      "outputs": []
    },
    {
      "cell_type": "code",
      "metadata": {
        "colab": {
          "base_uri": "https://localhost:8080/"
        },
        "id": "7Iy_N0iXOReE",
        "outputId": "cd7164e5-24dd-4e16-9897-d0e18b157c7d"
      },
      "source": [
        "model_scores.append(np.sqrt(mean_squared_error(valid_ml[\"Cumulative_cases\"],prediction_valid_logreg)))\n",
        "print(\"RMSE: \",np.sqrt(mean_squared_error(valid_ml[\"Cumulative_cases\"],prediction_valid_logreg)))"
      ],
      "execution_count": null,
      "outputs": [
        {
          "output_type": "stream",
          "name": "stdout",
          "text": [
            "RMSE:  14255606.81447564\n"
          ]
        }
      ]
    },
    {
      "cell_type": "code",
      "metadata": {
        "colab": {
          "base_uri": "https://localhost:8080/",
          "height": 345
        },
        "id": "pnJsMnPWOeyD",
        "outputId": "48faf6db-071c-452b-b25c-3438e58bcf43"
      },
      "source": [
        "#As one can see, linear regression model isn't very accurate\n",
        "prediction_logreg=log_reg.predict(np.array(datewise[\"Days Since\"]).reshape(-1,1))\n",
        "plt.plot(datewise[\"Cumulative_cases\"],label=\"Actual Confirmed Cases\")\n",
        "plt.plot(datewise.index,prediction_logreg, linestyle='--',label=\"Predicted Confirmed Cases for Linear Regression\",color='black')\n",
        "plt.xlabel('Time')\n",
        "plt.ylabel('Confirmed Cases')\n",
        "plt.title(\"Confirmed Cases for Linear Model\")\n",
        "plt.xticks(rotation=90)\n",
        "plt.legend()"
      ],
      "execution_count": null,
      "outputs": [
        {
          "output_type": "execute_result",
          "data": {
            "text/plain": [
              "<matplotlib.legend.Legend at 0x7f58ef3b5550>"
            ]
          },
          "metadata": {},
          "execution_count": 54
        },
        {
          "output_type": "display_data",
          "data": {
            "image/png": "[encoded data removed]",
            "text/plain": [
              "<Figure size 432x288 with 1 Axes>"
            ]
          },
          "metadata": {
            "needs_background": "light"
          }
        }
      ]
    }
  ]
}
